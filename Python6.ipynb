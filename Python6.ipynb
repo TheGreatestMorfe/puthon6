{
  "cells": [
    {
      "cell_type": "markdown",
      "metadata": {
        "id": "EVbqAmZF1ckK"
      },
      "source": [
        "# Самостоятельная работа (Файлы. Исключения)"
      ]
    },
    {
      "cell_type": "markdown",
      "metadata": {
        "id": "iQhhkJb8yk0e"
      },
      "source": [
        "## Задача 1"
      ]
    },
    {
      "cell_type": "markdown",
      "metadata": {
        "id": "4CntGw70y0cl"
      },
      "source": [
        "Напишите функцию, которая параметром будет принимать путь к папке, а возвращать размер этой папки."
      ]
    },
    {
      "cell_type": "code",
      "execution_count": 1,
      "metadata": {
        "id": "xDr0YsR_0kNP"
      },
      "outputs": [
        {
          "name": "stdout",
          "output_type": "stream",
          "text": [
            "Размер папки: 161056 байт\n"
          ]
        }
      ],
      "source": [
        "import os\n",
        "\n",
        "def folder_size(path):\n",
        "    total_size = 0\n",
        "    for dirpath, dirnames, filenames in os.walk(path):\n",
        "        for filename in filenames:\n",
        "            filepath = os.path.join(dirpath, filename)\n",
        "            total_size += os.path.getsize(filepath)\n",
        "    return total_size\n",
        "\n",
        "folder_path = input(\"Введите путь к папке: \")\n",
        "size = folder_size(folder_path)\n",
        "print(\"Размер папки:\", size, \"байт\")\n",
        "\n"
      ]
    },
    {
      "cell_type": "markdown",
      "metadata": {
        "id": "o9mJvlCwDu95"
      },
      "source": [
        "## Задача 2"
      ]
    },
    {
      "cell_type": "markdown",
      "metadata": {
        "id": "o6pubICoDu97"
      },
      "source": [
        "Дан текстовый файл. В нем написан текст, разбитый на предложения. Перемешайте слова в каждом предложении текста и запишите полученный текст в новый файл."
      ]
    },
    {
      "cell_type": "code",
      "execution_count": 4,
      "metadata": {
        "id": "sTia6dWRDu98"
      },
      "outputs": [],
      "source": [
        "import random\n",
        "\n",
        "def shuffle_words(sentence):\n",
        "    words = sentence.split()\n",
        "    random.shuffle(words)\n",
        "    return ' '.join(words)\n",
        "\n",
        "with open('input.txt', 'r', encoding='utf-8') as file:\n",
        "    text = file.read()\n",
        "    sentences = text.split('.')\n",
        "    shuffled_sentences = [shuffle_words(sentence) for sentence in sentences]\n",
        "\n",
        "with open('output.txt', 'w', encoding='utf-8') as file:\n",
        "    file.write('.'.join(shuffled_sentences))\n",
        "\n"
      ]
    },
    {
      "cell_type": "markdown",
      "metadata": {
        "id": "C9WsT9NCD70u"
      },
      "source": [
        "## Задача 3"
      ]
    },
    {
      "cell_type": "markdown",
      "metadata": {
        "id": "FyOsLkCPD71R"
      },
      "source": [
        "В файле расположен русский текст. Откройте этот файл, преобразуйте текст в транслит и запишите в новый файл."
      ]
    },
    {
      "cell_type": "code",
      "execution_count": 7,
      "metadata": {
        "id": "d5qjX7quD71S"
      },
      "outputs": [],
      "source": [
        "translit_dict = {\n",
        "    'а': 'a', 'б': 'b', 'в': 'v', 'г': 'g', 'д': 'd', 'е': 'e', 'ё': 'yo',\n",
        "    'ж': 'zh', 'з': 'z', 'и': 'i', 'й': 'y', 'к': 'k', 'л': 'l', 'м': 'm',\n",
        "    'н': 'n', 'о': 'o', 'п': 'p', 'р': 'r', 'с': 's', 'т': 't', 'у': 'u',\n",
        "    'ф': 'f', 'х': 'kh', 'ц': 'ts', 'ч': 'ch', 'ш': 'sh', 'щ': 'shch',\n",
        "    'ъ': '', 'ы': 'y', 'ь': '', 'э': 'e', 'ю': 'yu', 'я': 'ya',\n",
        "    'А': 'A', 'Б': 'B', 'В': 'V', 'Г': 'G', 'Д': 'D', 'Е': 'E', 'Ё': 'Yo',\n",
        "    'Ж': 'Zh', 'З': 'Z', 'И': 'I', 'Й': 'Y', 'К': 'K', 'Л': 'L', 'М': 'M',\n",
        "    'Н': 'N', 'О': 'O', 'П': 'P', 'Р': 'R', 'С': 'S', 'Т': 'T', 'У': 'U',\n",
        "    'Ф': 'F', 'Х': 'Kh', 'Ц': 'Ts', 'Ч': 'Ch', 'Ш': 'Sh', 'Щ': 'Shch',\n",
        "    'Ъ': '', 'Ы': 'Y', 'Ь': '', 'Э': 'E', 'Ю': 'Yu', 'Я': 'Ya',\n",
        "    ' ': ' ', ',': ',', '.': '.', ':': ':', ';': ';', '-': '-', '!': '!', '?': '?', '(': '(', ')': ')', '\\n': '\\n'\n",
        "}\n",
        "\n",
        "\n",
        "def transliterate(text):\n",
        "    translit_text = ''\n",
        "    for char in text:\n",
        "        translit_char = translit_dict.get(char)\n",
        "        if translit_char is not None:\n",
        "            translit_text += translit_char\n",
        "        else:\n",
        "            translit_text += char\n",
        "    return translit_text\n",
        "\n",
        "with open('russian_text.txt', 'r', encoding='utf-8') as file:\n",
        "    russian_text = file.read()\n",
        "\n",
        "transliterated_text = transliterate(russian_text)\n",
        "\n",
        "with open('transliterated_text.txt', 'w', encoding='utf-8') as file:\n",
        "    file.write(transliterated_text)\n",
        "\n",
        "\n"
      ]
    },
    {
      "cell_type": "markdown",
      "metadata": {
        "id": "jLz9Lw-7ERLJ"
      },
      "source": [
        "## Задача 4"
      ]
    },
    {
      "cell_type": "markdown",
      "metadata": {
        "id": "eo56U11xERLL"
      },
      "source": [
        "Дан текстовый файл. Получите количество букв в нем (пробелы, знаки препинания и специальные символы не учитываются)."
      ]
    },
    {
      "cell_type": "code",
      "execution_count": 11,
      "metadata": {
        "id": "eyMVLE5rERLL"
      },
      "outputs": [
        {
          "name": "stdout",
          "output_type": "stream",
          "text": [
            "Количество букв в тексте: 12\n"
          ]
        }
      ],
      "source": [
        "# Открытие файла и чтение его содержимого\n",
        "with open('text.txt', 'r', encoding='utf-8') as file:\n",
        "    text = file.read()\n",
        "\n",
        "# Переменная для хранения количества букв\n",
        "letter_count = 0\n",
        "\n",
        "# Подсчет количества букв\n",
        "for char in text:\n",
        "    if char.isalpha():\n",
        "        letter_count += 1\n",
        "\n",
        "# Вывод результата\n",
        "print(\"Количество букв в тексте:\", letter_count)\n"
      ]
    },
    {
      "cell_type": "markdown",
      "metadata": {
        "id": "m4628ffNE0ha"
      },
      "source": [
        "## Задача 5"
      ]
    },
    {
      "cell_type": "markdown",
      "metadata": {
        "id": "372hLl8-E0hb"
      },
      "source": [
        "Дан текстовый файл. Получите количество букв в нем (пробелы, знаки препинания и специальные символы не учитываются)."
      ]
    },
    {
      "cell_type": "code",
      "execution_count": 12,
      "metadata": {
        "id": "cQOLrXzAE0hc"
      },
      "outputs": [
        {
          "name": "stdout",
          "output_type": "stream",
          "text": [
            "Количество букв в тексте: 12\n"
          ]
        }
      ],
      "source": [
        "# Открытие файла и чтение его содержимого\n",
        "with open('text.txt', 'r', encoding='utf-8') as file:\n",
        "    text = file.read()\n",
        "\n",
        "# Переменная для хранения количества букв\n",
        "letter_count = 0\n",
        "\n",
        "# Подсчет количества букв\n",
        "for char in text:\n",
        "    if char.isalpha():\n",
        "        letter_count += 1\n",
        "\n",
        "# Вывод результата\n",
        "print(\"Количество букв в тексте:\", letter_count)\n"
      ]
    },
    {
      "cell_type": "markdown",
      "metadata": {
        "id": "J7eqhUv5JLfO"
      },
      "source": [
        "## Задача 6"
      ]
    },
    {
      "cell_type": "markdown",
      "metadata": {
        "id": "hDfw4rf3JLf1"
      },
      "source": [
        "Напишите программу, которая запрашивает у пользователя два значения. Если хотя бы одно из них не является числом, то программа будет соединять их в одну строку. В остальных случаях, если оба значения являются числами, программа будет суммировать их.\n",
        "\n",
        "Примеры выполнения программы:\n",
        "```\n",
        "Первое значение: 10\n",
        "Второе значение: 50\n",
        "Результат: 60\n",
        "```\n",
        "\n",
        "```\n",
        "Первое значение: hello\n",
        "Второе значение: world\n",
        "Результат: helloworld\n",
        "```\n",
        "\n",
        "\n",
        "\n",
        "\n"
      ]
    },
    {
      "cell_type": "code",
      "execution_count": 14,
      "metadata": {
        "id": "Y7Fhz2upJLf2"
      },
      "outputs": [
        {
          "name": "stdout",
          "output_type": "stream",
          "text": [
            "Результат: hitim\n"
          ]
        }
      ],
      "source": [
        "# Запрос ввода от пользователя\n",
        "value1 = input(\"Первое значение: \")\n",
        "value2 = input(\"Второе значение: \")\n",
        "\n",
        "# Проверка являются ли введенные значения числами\n",
        "if value1.isdigit() and value2.isdigit():\n",
        "    result = int(value1) + int(value2)\n",
        "else:\n",
        "    result = value1 + value2\n",
        "\n",
        "# Вывод результата\n",
        "print(\"Результат:\", result)\n",
        "\n"
      ]
    }
  ],
  "metadata": {
    "colab": {
      "provenance": []
    },
    "kernelspec": {
      "display_name": "Python 3",
      "name": "python3"
    },
    "language_info": {
      "codemirror_mode": {
        "name": "ipython",
        "version": 3
      },
      "file_extension": ".py",
      "mimetype": "text/x-python",
      "name": "python",
      "nbconvert_exporter": "python",
      "pygments_lexer": "ipython3",
      "version": "3.11.9"
    }
  },
  "nbformat": 4,
  "nbformat_minor": 0
}
